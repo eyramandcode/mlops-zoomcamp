{
 "cells": [
  {
   "cell_type": "code",
   "execution_count": 1,
   "id": "cb7273ef",
   "metadata": {},
   "outputs": [],
   "source": [
    "from mlflow.tracking import MlflowClient\n",
    "\n",
    "MLFLOW_TRACKING_URI = \"sqlite:///mlflow.db\"\n",
    "\n",
    "client = MlflowClient(tracking_uri=MLFLOW_TRACKING_URI)"
   ]
  },
  {
   "cell_type": "code",
   "execution_count": 3,
   "id": "4e269fc6",
   "metadata": {},
   "outputs": [
    {
     "data": {
      "text/plain": [
       "[<Experiment: artifact_location='/workspaces/mlops-zoomcamp/02-experiment-tracking/mlruns/2', creation_time=1747521064076, experiment_id='2', last_update_time=1747521064076, lifecycle_stage='active', name='nyc-taxi-experiment', tags={}>,\n",
       " <Experiment: artifact_location='/workspaces/mlops-zoomcamp/02-experiment-tracking/mlruns/1', creation_time=1747521029154, experiment_id='1', last_update_time=1747521029154, lifecycle_stage='active', name='my-brand-new-experiment', tags={}>,\n",
       " <Experiment: artifact_location='mlflow-artifacts:/0', creation_time=1747519090377, experiment_id='0', last_update_time=1747519090377, lifecycle_stage='active', name='Default', tags={}>]"
      ]
     },
     "execution_count": 3,
     "metadata": {},
     "output_type": "execute_result"
    }
   ],
   "source": [
    "client.search_experiments()"
   ]
  },
  {
   "cell_type": "code",
   "execution_count": 4,
   "id": "1ffd6d38",
   "metadata": {},
   "outputs": [
    {
     "data": {
      "text/plain": [
       "'3'"
      ]
     },
     "execution_count": 4,
     "metadata": {},
     "output_type": "execute_result"
    }
   ],
   "source": [
    "client.create_experiment(name = \"my-cool-experiment\")"
   ]
  },
  {
   "cell_type": "code",
   "execution_count": 7,
   "id": "9cea1389",
   "metadata": {},
   "outputs": [],
   "source": [
    "from mlflow.entities import ViewType\n",
    "\n",
    "runs = client.search_runs(\n",
    "experiment_ids = '2',\n",
    "filter_string='',\n",
    "max_results= 5,\n",
    "order_by = ['metrics.rmse ASC']\n",
    ")"
   ]
  },
  {
   "cell_type": "code",
   "execution_count": null,
   "id": "dc9782f3",
   "metadata": {},
   "outputs": [
    {
     "name": "stdout",
     "output_type": "stream",
     "text": [
      "'run_id: d3b1d08055064ce9b55944d9df946a14, 'rmse: 6.3056'\n",
      "'run_id: ed343f43a43e4e769e25f8fbb25cf66b, 'rmse: 6.3095'\n",
      "'run_id: 7f7d298a004e49c982477d847a0edc2f, 'rmse: 6.3107'\n",
      "'run_id: 442a5c6da10a440ab5fab88fd654e6d3, 'rmse: 6.3137'\n",
      "'run_id: c18de08d074a4381939764cdc5f54b71, 'rmse: 6.3190'\n"
     ]
    }
   ],
   "source": [
    "for run in runs:\n",
    "    print(f'run_id: {run.info.run_id}, rmse: {run.data.metrics['rmse']:.4f}')"
   ]
  },
  {
   "cell_type": "code",
   "execution_count": 17,
   "id": "dfdba5ec",
   "metadata": {},
   "outputs": [
    {
     "name": "stderr",
     "output_type": "stream",
     "text": [
      "Registered model 'nyc-taxi-regressor' already exists. Creating a new version of this model...\n",
      "Created version '3' of model 'nyc-taxi-regressor'.\n"
     ]
    }
   ],
   "source": [
    "import mlflow\n",
    "\n",
    "mlflow.set_tracking_uri(MLFLOW_TRACKING_URI)\n",
    "\n",
    "run_uri = 'c18de08d074a4381939764cdc5f54b71'\n",
    "run_id = f'runs:/{run_uri}/model'\n",
    "\n",
    "result = mlflow.register_model(run_id, 'nyc-taxi-regressor')"
   ]
  },
  {
   "cell_type": "code",
   "execution_count": null,
   "id": "00bc3334",
   "metadata": {},
   "outputs": [
    {
     "data": {
      "text/plain": [
       "[<RegisteredModel: aliases={'challenger': 2, 'champion': 1}, creation_timestamp=1748307595453, description='The NYC predictor for trip duration', last_updated_timestamp=1748309651378, latest_versions=[<ModelVersion: aliases=[], creation_timestamp=1748309651378, current_stage='None', description=None, last_updated_timestamp=1748309651378, name='nyc-taxi-regressor', run_id='c18de08d074a4381939764cdc5f54b71', run_link=None, source='/workspaces/mlops-zoomcamp/02-experiment-tracking/mlruns/2/c18de08d074a4381939764cdc5f54b71/artifacts/model', status='READY', status_message=None, tags={}, user_id=None, version=3>], name='nyc-taxi-regressor', tags={}>,\n",
       " <RegisteredModel: aliases={}, creation_timestamp=1748309625810, description=None, last_updated_timestamp=1748309625822, latest_versions=[<ModelVersion: aliases=[], creation_timestamp=1748309625822, current_stage='None', description=None, last_updated_timestamp=1748309625822, name='nyc_taxi_regressor', run_id='c18de08d074a4381939764cdc5f54b71', run_link=None, source='/workspaces/mlops-zoomcamp/02-experiment-tracking/mlruns/2/c18de08d074a4381939764cdc5f54b71/artifacts/model', status='READY', status_message=None, tags={}, user_id=None, version=1>], name='nyc_taxi_regressor', tags={}>]"
      ]
     },
     "execution_count": 18,
     "metadata": {},
     "output_type": "execute_result"
    }
   ],
   "source": [
    "client.search_registered_models()"
   ]
  },
  {
   "cell_type": "code",
   "execution_count": 25,
   "id": "3a62ffd6",
   "metadata": {},
   "outputs": [
    {
     "name": "stderr",
     "output_type": "stream",
     "text": [
      "/tmp/ipykernel_53134/1035904062.py:2: FutureWarning: ``mlflow.tracking.client.MlflowClient.get_latest_versions`` is deprecated since 2.9.0. Model registry stages will be removed in a future major release. To learn more about the deprecation of model registry stages, see our migration guide here: https://mlflow.org/docs/latest/model-registry.html#migrating-from-stages\n",
      "  latest_versions = client.get_latest_versions(name=model_name)\n"
     ]
    }
   ],
   "source": [
    "model_name = 'nyc-taxi-regressor'\n",
    "latest_versions = client.get_latest_versions(name=model_name)\n"
   ]
  },
  {
   "cell_type": "code",
   "execution_count": null,
   "id": "d18f6f86",
   "metadata": {},
   "outputs": [],
   "source": []
  }
 ],
 "metadata": {
  "kernelspec": {
   "display_name": "exp-tracking-env",
   "language": "python",
   "name": "python3"
  },
  "language_info": {
   "codemirror_mode": {
    "name": "ipython",
    "version": 3
   },
   "file_extension": ".py",
   "mimetype": "text/x-python",
   "name": "python",
   "nbconvert_exporter": "python",
   "pygments_lexer": "ipython3",
   "version": "3.13.2"
  }
 },
 "nbformat": 4,
 "nbformat_minor": 5
}
